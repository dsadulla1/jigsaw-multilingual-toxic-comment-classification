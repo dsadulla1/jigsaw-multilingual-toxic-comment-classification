{
 "cells": [
  {
   "cell_type": "code",
   "execution_count": 1,
   "metadata": {},
   "outputs": [],
   "source": [
    "import transformers\n",
    "import tokenizers\n",
    "import tensorflow as tf\n",
    "import os"
   ]
  },
  {
   "cell_type": "code",
   "execution_count": 2,
   "metadata": {},
   "outputs": [
    {
     "data": {
      "text/plain": [
       "[PhysicalDevice(name='/physical_device:CPU:0', device_type='CPU')]"
      ]
     },
     "execution_count": 2,
     "metadata": {},
     "output_type": "execute_result"
    }
   ],
   "source": [
    "tf.config.list_physical_devices('CPU')"
   ]
  },
  {
   "cell_type": "code",
   "execution_count": 3,
   "metadata": {},
   "outputs": [],
   "source": [
    "model_names = [\"distilbert-base-multilingual-cased\", \"bert-base-multilingual-cased\",\n",
    "               \"jplu/tf-xlm-roberta-base\", \"jplu/tf-xlm-roberta-large\"]\n",
    "folder_names = [\"distilbert-base-multilingual-cased\", \"bert-base-multilingual-cased\",\n",
    "                \"tf-xlm-roberta-base\", \"tf-xlm-roberta-large\"]"
   ]
  },
  {
   "cell_type": "code",
   "execution_count": null,
   "metadata": {},
   "outputs": [],
   "source": [
    "for f, m in zip(folder_names, model_names):\n",
    "    os.makedirs(\"../models2/\"+f)\n",
    "    print(os.listdir('../models2'))"
   ]
  },
  {
   "cell_type": "code",
   "execution_count": null,
   "metadata": {},
   "outputs": [],
   "source": [
    "RobertaTokenizer = transformers.RobertaTokenizer.from_pretrained()\n",
    "RobertaConfig = transformers.RobertaConfig.from_pretrained()\n",
    "TFXLMRobertaModel = transformers.TFXLMRobertaModel.from_pretrained()\n",
    "\n",
    "RobertaTokenizer.save_pretrained()\n",
    "RobertaConfig.save_pretrained()\n",
    "TFXLMRobertaModel.save_pretrained()\n",
    "\n",
    "DistilBertTokenizer = transformers.DistilBertTokenizer.from_pretrained()\n",
    "DistilBertConfig = transformers.DistilBertConfig.from_pretrained()\n",
    "TFDistilBertModel = transformers.TFDistilBertModel.from_pretrained()\n",
    "\n",
    "DistilBertTokenizer.save_pretrained()\n",
    "DistilBertConfig.save_pretrained()\n",
    "TFDistilBertModel.save_pretrained()\n",
    "\n",
    "BertTokenizer = transformers.BertTokenizer.from_pretrained()\n",
    "BertConfig = transformers.BertConfig.from_pretrained()\n",
    "TFBertModel = transformers.TFBertModel.from_pretrained()\n",
    "\n",
    "BertTokenizer.save_pretrained()\n",
    "BertConfig.save_pretrained()\n",
    "TFBertModel.save_pretrained()"
   ]
  },
  {
   "cell_type": "code",
   "execution_count": 11,
   "metadata": {},
   "outputs": [
    {
     "ename": "AttributeError",
     "evalue": "module 'transformers' has no attribute 'AutoModelWithLMHead'",
     "output_type": "error",
     "traceback": [
      "\u001b[0;31m---------------------------------------------------------------------------\u001b[0m",
      "\u001b[0;31mAttributeError\u001b[0m                            Traceback (most recent call last)",
      "\u001b[0;32m<ipython-input-11-b6f9d49bb432>\u001b[0m in \u001b[0;36m<module>\u001b[0;34m\u001b[0m\n\u001b[1;32m      2\u001b[0m     \u001b[0mtokenizer\u001b[0m \u001b[0;34m=\u001b[0m \u001b[0mtransformers\u001b[0m\u001b[0;34m.\u001b[0m\u001b[0mAutoTokenizer\u001b[0m\u001b[0;34m.\u001b[0m\u001b[0mfrom_pretrained\u001b[0m\u001b[0;34m(\u001b[0m\u001b[0mm\u001b[0m\u001b[0;34m)\u001b[0m\u001b[0;34m\u001b[0m\u001b[0;34m\u001b[0m\u001b[0m\n\u001b[1;32m      3\u001b[0m     \u001b[0mconfig\u001b[0m \u001b[0;34m=\u001b[0m \u001b[0mtransformers\u001b[0m\u001b[0;34m.\u001b[0m\u001b[0mAutoConfig\u001b[0m\u001b[0;34m.\u001b[0m\u001b[0mfrom_pretrained\u001b[0m\u001b[0;34m(\u001b[0m\u001b[0mm\u001b[0m\u001b[0;34m)\u001b[0m\u001b[0;34m\u001b[0m\u001b[0;34m\u001b[0m\u001b[0m\n\u001b[0;32m----> 4\u001b[0;31m     \u001b[0mmodel\u001b[0m \u001b[0;34m=\u001b[0m \u001b[0mtransformers\u001b[0m\u001b[0;34m.\u001b[0m\u001b[0mAutoModelWithLMHead\u001b[0m\u001b[0;34m.\u001b[0m\u001b[0mfrom_pretrained\u001b[0m\u001b[0;34m(\u001b[0m\u001b[0mm\u001b[0m\u001b[0;34m)\u001b[0m\u001b[0;34m\u001b[0m\u001b[0;34m\u001b[0m\u001b[0m\n\u001b[0m\u001b[1;32m      5\u001b[0m \u001b[0;34m\u001b[0m\u001b[0m\n\u001b[1;32m      6\u001b[0m     \u001b[0mtokenizer\u001b[0m\u001b[0;34m.\u001b[0m\u001b[0msave_pretrained\u001b[0m\u001b[0;34m(\u001b[0m\u001b[0;34m\"../models2/\"\u001b[0m\u001b[0;34m+\u001b[0m\u001b[0mf\u001b[0m\u001b[0;34m)\u001b[0m\u001b[0;34m\u001b[0m\u001b[0;34m\u001b[0m\u001b[0m\n",
      "\u001b[0;31mAttributeError\u001b[0m: module 'transformers' has no attribute 'AutoModelWithLMHead'"
     ]
    }
   ],
   "source": [
    "for m, f in zip(model_names, folder_names):\n",
    "    tokenizer = transformers.AutoTokenizer.from_pretrained(m)\n",
    "    config = transformers.AutoConfig.from_pretrained(m)\n",
    "    model = transformers..from_pretrained(m)\n",
    "    \n",
    "    tokenizer.save_pretrained(\"../models2/\"+f)\n",
    "    config.save_pretrained(\"../models2/\"+f)\n",
    "    model.save_pretrained(\"../models2/\"+f)"
   ]
  }
 ],
 "metadata": {
  "kernelspec": {
   "display_name": "py37_tensorflow",
   "language": "python",
   "name": "conda-env-py37_tensorflow-py"
  },
  "language_info": {
   "codemirror_mode": {
    "name": "ipython",
    "version": 3
   },
   "file_extension": ".py",
   "mimetype": "text/x-python",
   "name": "python",
   "nbconvert_exporter": "python",
   "pygments_lexer": "ipython3",
   "version": "3.7.7"
  }
 },
 "nbformat": 4,
 "nbformat_minor": 4
}
