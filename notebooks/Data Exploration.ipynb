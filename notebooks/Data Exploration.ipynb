{
 "cells": [
  {
   "cell_type": "code",
   "execution_count": 24,
   "metadata": {},
   "outputs": [],
   "source": [
    "import numpy as np\n",
    "import pandas as pd\n",
    "from matplotlib import pyplot as plt\n",
    "\n",
    "import os, sys, re\n",
    "from datetime import datetime as dt\n",
    "\n",
    "%matplotlib inline"
   ]
  },
  {
   "cell_type": "code",
   "execution_count": 16,
   "metadata": {},
   "outputs": [],
   "source": [
    "start_time = dt.now()"
   ]
  },
  {
   "cell_type": "code",
   "execution_count": 17,
   "metadata": {},
   "outputs": [],
   "source": [
    "def print_details(list_of_csvs):\n",
    "    dataframes = {i:pd.read_csv(\"../data/\"+i) for i in list_of_csvs}\n",
    "    for i in list_of_csvs:\n",
    "        print(\"==================\"+i+\"==========================\")\n",
    "        print(\"Shape:\\n\",dataframes[i].shape)\n",
    "        print(\"Columns:\\n\",dataframes[i].columns)\n",
    "    return dataframes"
   ]
  },
  {
   "cell_type": "code",
   "execution_count": 29,
   "metadata": {},
   "outputs": [
    {
     "data": {
      "text/plain": [
       "['jigsaw-toxic-comment-train.csv',\n",
       " 'jigsaw-unintended-bias-train.csv',\n",
       " 'sample_submission.csv',\n",
       " 'test.csv',\n",
       " 'validation.csv']"
      ]
     },
     "execution_count": 29,
     "metadata": {},
     "output_type": "execute_result"
    }
   ],
   "source": [
    "list_of_csvs = [i for i in os.listdir(\"../data/\") if i.endswith(\".csv\")]\n",
    "list_of_csvs = [i for i in list_of_csvs if not re.findall(string=i,pattern=\"processed\")]\n",
    "list_of_csvs"
   ]
  },
  {
   "cell_type": "code",
   "execution_count": 30,
   "metadata": {},
   "outputs": [
    {
     "name": "stdout",
     "output_type": "stream",
     "text": [
      "==================jigsaw-toxic-comment-train.csv==========================\n",
      "Shape:\n",
      " (223549, 8)\n",
      "Columns:\n",
      " Index(['id', 'comment_text', 'toxic', 'severe_toxic', 'obscene', 'threat',\n",
      "       'insult', 'identity_hate'],\n",
      "      dtype='object')\n",
      "==================jigsaw-unintended-bias-train.csv==========================\n",
      "Shape:\n",
      " (1902194, 45)\n",
      "Columns:\n",
      " Index(['id', 'comment_text', 'toxic', 'severe_toxicity', 'obscene',\n",
      "       'identity_attack', 'insult', 'threat', 'asian', 'atheist', 'bisexual',\n",
      "       'black', 'buddhist', 'christian', 'female', 'heterosexual', 'hindu',\n",
      "       'homosexual_gay_or_lesbian', 'intellectual_or_learning_disability',\n",
      "       'jewish', 'latino', 'male', 'muslim', 'other_disability',\n",
      "       'other_gender', 'other_race_or_ethnicity', 'other_religion',\n",
      "       'other_sexual_orientation', 'physical_disability',\n",
      "       'psychiatric_or_mental_illness', 'transgender', 'white', 'created_date',\n",
      "       'publication_id', 'parent_id', 'article_id', 'rating', 'funny', 'wow',\n",
      "       'sad', 'likes', 'disagree', 'sexual_explicit',\n",
      "       'identity_annotator_count', 'toxicity_annotator_count'],\n",
      "      dtype='object')\n",
      "==================sample_submission.csv==========================\n",
      "Shape:\n",
      " (63812, 2)\n",
      "Columns:\n",
      " Index(['id', 'toxic'], dtype='object')\n",
      "==================test.csv==========================\n",
      "Shape:\n",
      " (63812, 3)\n",
      "Columns:\n",
      " Index(['id', 'content', 'lang'], dtype='object')\n",
      "==================validation.csv==========================\n",
      "Shape:\n",
      " (8000, 4)\n",
      "Columns:\n",
      " Index(['id', 'comment_text', 'lang', 'toxic'], dtype='object')\n"
     ]
    }
   ],
   "source": [
    "dataframes = print_details(list_of_csvs)"
   ]
  }
 ],
 "metadata": {
  "kernelspec": {
   "display_name": "Python 3",
   "language": "python",
   "name": "python3"
  },
  "language_info": {
   "codemirror_mode": {
    "name": "ipython",
    "version": 3
   },
   "file_extension": ".py",
   "mimetype": "text/x-python",
   "name": "python",
   "nbconvert_exporter": "python",
   "pygments_lexer": "ipython3",
   "version": "3.7.7"
  }
 },
 "nbformat": 4,
 "nbformat_minor": 4
}
